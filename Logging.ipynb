{
 "cells": [
  {
   "cell_type": "markdown",
   "metadata": {
    "id": "C-2berbuqzno"
   },
   "source": [
    "# Logging"
   ]
  },
  {
   "cell_type": "code",
   "execution_count": 1,
   "metadata": {
    "executionInfo": {
     "elapsed": 726,
     "status": "ok",
     "timestamp": 1673448907641,
     "user": {
      "displayName": "RAJAT BISOE",
      "userId": "02247020746270858454"
     },
     "user_tz": -330
    },
    "id": "kADTARlqqyaF"
   },
   "outputs": [],
   "source": [
    "import logging"
   ]
  },
  {
   "cell_type": "code",
   "execution_count": 2,
   "metadata": {
    "executionInfo": {
     "elapsed": 66,
     "status": "ok",
     "timestamp": 1673448909087,
     "user": {
      "displayName": "RAJAT BISOE",
      "userId": "02247020746270858454"
     },
     "user_tz": -330
    },
    "id": "0KX98qc4q4xg"
   },
   "outputs": [],
   "source": [
    "logging.basicConfig(filenme = \"test.log\")"
   ]
  },
  {
   "cell_type": "code",
   "execution_count": 3,
   "metadata": {
    "colab": {
     "base_uri": "https://localhost:8080/"
    },
    "executionInfo": {
     "elapsed": 67,
     "status": "ok",
     "timestamp": 1673448909089,
     "user": {
      "displayName": "RAJAT BISOE",
      "userId": "02247020746270858454"
     },
     "user_tz": -330
    },
    "id": "kVqESfzOrN5S",
    "outputId": "d647bf7c-67e6-4b22-93b9-7ba87337fcaa"
   },
   "outputs": [
    {
     "name": "stderr",
     "output_type": "stream",
     "text": [
      "WARNING:root:This is my warning log\n",
      "ERROR:root:This is error log\n"
     ]
    }
   ],
   "source": [
    "logging.info(\"This is my log info\")\n",
    "logging.warning(\"This is my warning log\")\n",
    "logging.error(\"This is error log\")"
   ]
  },
  {
   "cell_type": "code",
   "execution_count": 4,
   "metadata": {
    "executionInfo": {
     "elapsed": 63,
     "status": "ok",
     "timestamp": 1673448909093,
     "user": {
      "displayName": "RAJAT BISOE",
      "userId": "02247020746270858454"
     },
     "user_tz": -330
    },
    "id": "U1rHyjxkri8M"
   },
   "outputs": [],
   "source": [
    "logging.shutdown()"
   ]
  },
  {
   "cell_type": "code",
   "execution_count": 5,
   "metadata": {
    "colab": {
     "base_uri": "https://localhost:8080/",
     "height": 36
    },
    "executionInfo": {
     "elapsed": 65,
     "status": "ok",
     "timestamp": 1673448909096,
     "user": {
      "displayName": "RAJAT BISOE",
      "userId": "02247020746270858454"
     },
     "user_tz": -330
    },
    "id": "CG-ap60drHuJ",
    "outputId": "a03c92c2-87a9-45c3-edae-b0d0f9e582da"
   },
   "outputs": [
    {
     "data": {
      "application/vnd.google.colaboratory.intrinsic+json": {
       "type": "string"
      },
      "text/plain": [
       "'/content'"
      ]
     },
     "execution_count": 5,
     "metadata": {},
     "output_type": "execute_result"
    }
   ],
   "source": [
    "pwd()"
   ]
  },
  {
   "cell_type": "code",
   "execution_count": null,
   "metadata": {
    "id": "ps0eZ3lnT_Nd"
   },
   "outputs": [],
   "source": [
    "DEBUG \n",
    "INFO\n",
    "WARNING\n",
    "ERROR\n",
    "CRITICAL"
   ]
  },
  {
   "cell_type": "code",
   "execution_count": 7,
   "metadata": {
    "executionInfo": {
     "elapsed": 433,
     "status": "ok",
     "timestamp": 1673448913706,
     "user": {
      "displayName": "RAJAT BISOE",
      "userId": "02247020746270858454"
     },
     "user_tz": -330
    },
    "id": "RpjTWGhdcV7W"
   },
   "outputs": [],
   "source": [
    "logging.basicConfig(filename = \"test2.log\" , level = logging.DEBUG , format ='%(asctime)s %(levelname)s %(message)s' )"
   ]
  },
  {
   "cell_type": "code",
   "execution_count": 8,
   "metadata": {
    "colab": {
     "base_uri": "https://localhost:8080/"
    },
    "executionInfo": {
     "elapsed": 14,
     "status": "ok",
     "timestamp": 1673448915151,
     "user": {
      "displayName": "RAJAT BISOE",
      "userId": "02247020746270858454"
     },
     "user_tz": -330
    },
    "id": "pOW6-IPm_m_L",
    "outputId": "6b8bf362-a916-407d-a40f-0bb4e4e97016"
   },
   "outputs": [
    {
     "name": "stderr",
     "output_type": "stream",
     "text": [
      "WARNING:root:this is my warniing log \n",
      "ERROR:root:this is my error log\n"
     ]
    }
   ],
   "source": [
    "logging.info(\"this is my info log\")\n",
    "logging.warning(\"this is my warniing log \")\n",
    "logging.debug(\"this is my debug log \")\n",
    "logging.error(\"this is my error log\")"
   ]
  },
  {
   "cell_type": "code",
   "execution_count": null,
   "metadata": {
    "executionInfo": {
     "elapsed": 59,
     "status": "aborted",
     "timestamp": 1673448909105,
     "user": {
      "displayName": "RAJAT BISOE",
      "userId": "02247020746270858454"
     },
     "user_tz": -330
    },
    "id": "C3IjeyqQTZPm"
   },
   "outputs": [],
   "source": [
    "ERROR\n",
    "WARNING\n",
    "INFO\n",
    "DEBUG"
   ]
  },
  {
   "cell_type": "code",
   "execution_count": 9,
   "metadata": {
    "executionInfo": {
     "elapsed": 7,
     "status": "ok",
     "timestamp": 1673448917532,
     "user": {
      "displayName": "RAJAT BISOE",
      "userId": "02247020746270858454"
     },
     "user_tz": -330
    },
    "id": "dN6wb3IjU49V"
   },
   "outputs": [],
   "source": [
    "logging.basicConfig(filename = \"test3.log\" , level = logging.DEBUG , format ='%(asctime)s %(levelname)s %(message)s' )"
   ]
  },
  {
   "cell_type": "code",
   "execution_count": 10,
   "metadata": {
    "executionInfo": {
     "elapsed": 912,
     "status": "ok",
     "timestamp": 1673450740594,
     "user": {
      "displayName": "RAJAT BISOE",
      "userId": "02247020746270858454"
     },
     "user_tz": -330
    },
    "id": "i95ejLdgU5c2"
   },
   "outputs": [],
   "source": [
    "def divbyzero(a,b) :\n",
    "    logging.info(\"this is a start of my code and i am try to enter %s and %s\" , a,b)\n",
    "    try:\n",
    "        div = a/b\n",
    "        logging.info(\"executed succ\")\n",
    "    except Exception as e :\n",
    "        logging.error(\"Errog has happend \")\n",
    "        logging.exception(\"Exception occured \" + str(e))"
   ]
  },
  {
   "cell_type": "code",
   "execution_count": 11,
   "metadata": {
    "executionInfo": {
     "elapsed": 1044,
     "status": "ok",
     "timestamp": 1673450753630,
     "user": {
      "displayName": "RAJAT BISOE",
      "userId": "02247020746270858454"
     },
     "user_tz": -330
    },
    "id": "i4LmRajfb83d"
   },
   "outputs": [],
   "source": [
    "divbyzero(4,5)"
   ]
  },
  {
   "cell_type": "code",
   "execution_count": 12,
   "metadata": {
    "colab": {
     "base_uri": "https://localhost:8080/"
    },
    "executionInfo": {
     "elapsed": 893,
     "status": "ok",
     "timestamp": 1673450765577,
     "user": {
      "displayName": "RAJAT BISOE",
      "userId": "02247020746270858454"
     },
     "user_tz": -330
    },
    "id": "aD22aEFxcAem",
    "outputId": "70d0ba1f-8034-4c7d-96e0-caabd3be36b5"
   },
   "outputs": [
    {
     "name": "stderr",
     "output_type": "stream",
     "text": [
      "ERROR:root:Errog has happend \n",
      "ERROR:root:Exception occured division by zero\n",
      "Traceback (most recent call last):\n",
      "  File \"<ipython-input-10-fd7c1b5a248b>\", line 4, in divbyzero\n",
      "    div = a/b\n",
      "ZeroDivisionError: division by zero\n"
     ]
    }
   ],
   "source": [
    "divbyzero(4,0)"
   ]
  },
  {
   "cell_type": "code",
   "execution_count": 13,
   "metadata": {
    "colab": {
     "base_uri": "https://localhost:8080/",
     "height": 166
    },
    "executionInfo": {
     "elapsed": 533,
     "status": "error",
     "timestamp": 1673450831185,
     "user": {
      "displayName": "RAJAT BISOE",
      "userId": "02247020746270858454"
     },
     "user_tz": -330
    },
    "id": "Q6MILXp3cDZE",
    "outputId": "030b1bf9-d854-4c92-ec3e-6b3ff6968c85"
   },
   "outputs": [
    {
     "ename": "ZeroDivisionError",
     "evalue": "ignored",
     "output_type": "error",
     "traceback": [
      "\u001b[0;31m---------------------------------------------------------------------------\u001b[0m",
      "\u001b[0;31mZeroDivisionError\u001b[0m                         Traceback (most recent call last)",
      "\u001b[0;32m<ipython-input-13-221068dc2815>\u001b[0m in \u001b[0;36m<module>\u001b[0;34m\u001b[0m\n\u001b[0;32m----> 1\u001b[0;31m \u001b[0;36m4\u001b[0m\u001b[0;34m/\u001b[0m\u001b[0;36m0\u001b[0m\u001b[0;34m\u001b[0m\u001b[0;34m\u001b[0m\u001b[0m\n\u001b[0m",
      "\u001b[0;31mZeroDivisionError\u001b[0m: division by zero"
     ]
    }
   ],
   "source": [
    "4/0"
   ]
  },
  {
   "cell_type": "code",
   "execution_count": null,
   "metadata": {
    "id": "ej1TO_becTh0"
   },
   "outputs": [],
   "source": []
  }
 ],
 "metadata": {
  "colab": {
   "authorship_tag": "ABX9TyMyvGBORByO9biJ9AhhCQuv",
   "mount_file_id": "147c74cbD0oiPOH51BuCNH4nCOaAAQtLg",
   "provenance": []
  },
  "kernelspec": {
   "display_name": "Python 3 (ipykernel)",
   "language": "python",
   "name": "python3"
  },
  "language_info": {
   "codemirror_mode": {
    "name": "ipython",
    "version": 3
   },
   "file_extension": ".py",
   "mimetype": "text/x-python",
   "name": "python",
   "nbconvert_exporter": "python",
   "pygments_lexer": "ipython3",
   "version": "3.10.6"
  }
 },
 "nbformat": 4,
 "nbformat_minor": 4
}
