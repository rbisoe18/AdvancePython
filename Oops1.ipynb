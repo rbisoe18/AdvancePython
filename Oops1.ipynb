{
 "cells": [
  {
   "cell_type": "code",
   "execution_count": 1,
   "id": "07d56b70-db86-4f4c-83fe-099ab5c54619",
   "metadata": {},
   "outputs": [
    {
     "name": "stdout",
     "output_type": "stream",
     "text": [
      "1\n",
      "2\n",
      "3\n",
      "4\n",
      "5\n",
      "6\n"
     ]
    }
   ],
   "source": [
    "l = [1,2,3,4,5,6]\n",
    "for i in l:\n",
    "    print(i)"
   ]
  },
  {
   "cell_type": "code",
   "execution_count": 2,
   "id": "bd8bbe09-8d8a-4aaf-b376-50470a0b97b4",
   "metadata": {},
   "outputs": [],
   "source": [
    "class car:\n",
    "    pass"
   ]
  },
  {
   "cell_type": "code",
   "execution_count": 7,
   "id": "3c43df43-0420-45b2-88be-394bb25ebd1a",
   "metadata": {},
   "outputs": [],
   "source": [
    "class car:\n",
    "    def __init__(self, brand_name,fueltype,body_type): # self is a pointer\n",
    "        \n",
    "        self.brand_name = brand_name\n",
    "        self.fueltype = fueltype\n",
    "        self.body_type = body_type\n",
    "    \n",
    "    def desc_car(self):\n",
    "        print(self.brand_name,self.fueltype,self.body_type)"
   ]
  },
  {
   "cell_type": "code",
   "execution_count": 4,
   "id": "718c4ac3-2253-4afd-b1d0-906cdeca0396",
   "metadata": {},
   "outputs": [
    {
     "ename": "TypeError",
     "evalue": "car.__init__() missing 3 required positional arguments: 'brand_name', 'fueltype', and 'body_type'",
     "output_type": "error",
     "traceback": [
      "\u001b[0;31m---------------------------------------------------------------------------\u001b[0m",
      "\u001b[0;31mTypeError\u001b[0m                                 Traceback (most recent call last)",
      "Cell \u001b[0;32mIn [4], line 1\u001b[0m\n\u001b[0;32m----> 1\u001b[0m innova \u001b[38;5;241m=\u001b[39m \u001b[43mcar\u001b[49m\u001b[43m(\u001b[49m\u001b[43m)\u001b[49m\n",
      "\u001b[0;31mTypeError\u001b[0m: car.__init__() missing 3 required positional arguments: 'brand_name', 'fueltype', and 'body_type'"
     ]
    }
   ],
   "source": [
    "innova = car()"
   ]
  },
  {
   "cell_type": "code",
   "execution_count": 8,
   "id": "3f069c55-2d67-424c-9cd3-ca6186e22bad",
   "metadata": {},
   "outputs": [],
   "source": [
    "innova = car(\"toyota\",\"petrol\",\"suv\") # car -class |toyota- brand_name | petrol- fueltype | suv -body_type"
   ]
  },
  {
   "cell_type": "code",
   "execution_count": 9,
   "id": "313ba12c-234b-4aa4-b18f-86c6d10c9958",
   "metadata": {},
   "outputs": [
    {
     "name": "stdout",
     "output_type": "stream",
     "text": [
      "toyota petrol suv\n"
     ]
    }
   ],
   "source": [
    "innova.desc_car()"
   ]
  },
  {
   "cell_type": "code",
   "execution_count": 10,
   "id": "9ab1da4e-e18f-453c-a99f-22b37b3d3c92",
   "metadata": {},
   "outputs": [
    {
     "data": {
      "text/plain": [
       "'toyota'"
      ]
     },
     "execution_count": 10,
     "metadata": {},
     "output_type": "execute_result"
    }
   ],
   "source": [
    "innova.brand_name"
   ]
  },
  {
   "cell_type": "code",
   "execution_count": 11,
   "id": "d8f01ee7-960c-46c9-9243-17b069b56fc1",
   "metadata": {},
   "outputs": [
    {
     "data": {
      "text/plain": [
       "'petrol'"
      ]
     },
     "execution_count": 11,
     "metadata": {},
     "output_type": "execute_result"
    }
   ],
   "source": [
    "innova.fueltype"
   ]
  },
  {
   "cell_type": "code",
   "execution_count": 13,
   "id": "5fc25797-92a8-42f4-96d5-d2a0fe38d9d0",
   "metadata": {},
   "outputs": [
    {
     "data": {
      "text/plain": [
       "'suv'"
      ]
     },
     "execution_count": 13,
     "metadata": {},
     "output_type": "execute_result"
    }
   ],
   "source": [
    "innova.body_type"
   ]
  },
  {
   "cell_type": "markdown",
   "id": "5b7a6491-6638-4847-bd8e-53eee549b33e",
   "metadata": {},
   "source": [
    "---"
   ]
  },
  {
   "cell_type": "code",
   "execution_count": 15,
   "id": "8b326119-77c1-4ef5-bc67-df5dee2775af",
   "metadata": {},
   "outputs": [],
   "source": [
    "nexon = car(\"TATA\",\"petrol\",\"mini suv\")"
   ]
  },
  {
   "cell_type": "code",
   "execution_count": 16,
   "id": "15ecfeb5-a011-4668-8d3e-418c0305371e",
   "metadata": {},
   "outputs": [
    {
     "data": {
      "text/plain": [
       "'TATA'"
      ]
     },
     "execution_count": 16,
     "metadata": {},
     "output_type": "execute_result"
    }
   ],
   "source": [
    "nexon.brand_name"
   ]
  },
  {
   "cell_type": "code",
   "execution_count": 17,
   "id": "218f7e9c-b519-4c49-a9ac-497d6a1ebfb9",
   "metadata": {},
   "outputs": [
    {
     "data": {
      "text/plain": [
       "'petrol'"
      ]
     },
     "execution_count": 17,
     "metadata": {},
     "output_type": "execute_result"
    }
   ],
   "source": [
    "nexon.fueltype"
   ]
  },
  {
   "cell_type": "code",
   "execution_count": 18,
   "id": "881fff5c-c863-4fad-8600-f54f5fd8f573",
   "metadata": {},
   "outputs": [
    {
     "data": {
      "text/plain": [
       "'mini suv'"
      ]
     },
     "execution_count": 18,
     "metadata": {},
     "output_type": "execute_result"
    }
   ],
   "source": [
    "nexon.body_type"
   ]
  },
  {
   "cell_type": "code",
   "execution_count": 24,
   "id": "1e5ef269-7622-43c6-9235-16622e9599aa",
   "metadata": {},
   "outputs": [
    {
     "name": "stdout",
     "output_type": "stream",
     "text": [
      "TATA petrol mini suv\n"
     ]
    }
   ],
   "source": [
    "nexon.desc_car()"
   ]
  },
  {
   "cell_type": "markdown",
   "id": "580e7e7d-6b2d-401e-aaff-e82e862e170b",
   "metadata": {},
   "source": [
    "___"
   ]
  },
  {
   "cell_type": "code",
   "execution_count": 19,
   "id": "50cb4d98-18b4-41b1-bd45-b5194686fe77",
   "metadata": {},
   "outputs": [],
   "source": [
    "fortuner = car(\"Toyota\",\"desiel\",\"suv\")"
   ]
  },
  {
   "cell_type": "code",
   "execution_count": 20,
   "id": "5959f03a-2162-4b82-8bc8-023f4369fbe8",
   "metadata": {},
   "outputs": [
    {
     "data": {
      "text/plain": [
       "'Toyota'"
      ]
     },
     "execution_count": 20,
     "metadata": {},
     "output_type": "execute_result"
    }
   ],
   "source": [
    "fortuner.brand_name"
   ]
  },
  {
   "cell_type": "code",
   "execution_count": 21,
   "id": "3d32f1db-8da1-4089-ab50-39faf5cf02b6",
   "metadata": {},
   "outputs": [
    {
     "data": {
      "text/plain": [
       "'desiel'"
      ]
     },
     "execution_count": 21,
     "metadata": {},
     "output_type": "execute_result"
    }
   ],
   "source": [
    "fortuner.fueltype"
   ]
  },
  {
   "cell_type": "code",
   "execution_count": 22,
   "id": "d4d9ebbe-7991-4ae6-ab90-e2f754e065d9",
   "metadata": {},
   "outputs": [
    {
     "data": {
      "text/plain": [
       "'suv'"
      ]
     },
     "execution_count": 22,
     "metadata": {},
     "output_type": "execute_result"
    }
   ],
   "source": [
    "fortuner.body_type"
   ]
  },
  {
   "cell_type": "code",
   "execution_count": 23,
   "id": "4253439a-01b8-444f-bbc3-293857e8e0e5",
   "metadata": {},
   "outputs": [
    {
     "name": "stdout",
     "output_type": "stream",
     "text": [
      "Toyota desiel suv\n"
     ]
    }
   ],
   "source": [
    "fortuner.desc_car()"
   ]
  },
  {
   "cell_type": "code",
   "execution_count": 30,
   "id": "7e778303-a132-40dc-8144-9186ba62e147",
   "metadata": {},
   "outputs": [
    {
     "data": {
      "text/plain": [
       "__main__.car"
      ]
     },
     "execution_count": 30,
     "metadata": {},
     "output_type": "execute_result"
    }
   ],
   "source": [
    "type(fortuner)"
   ]
  },
  {
   "cell_type": "code",
   "execution_count": 28,
   "id": "a5ace907-f5fd-4511-b9a5-0f60a3b647d8",
   "metadata": {},
   "outputs": [
    {
     "data": {
      "text/plain": [
       "str"
      ]
     },
     "execution_count": 28,
     "metadata": {},
     "output_type": "execute_result"
    }
   ],
   "source": [
    "type(fortuner.brand_name)"
   ]
  },
  {
   "cell_type": "code",
   "execution_count": 29,
   "id": "34b925f7-8777-42bb-bf35-c7a67541a1f8",
   "metadata": {},
   "outputs": [
    {
     "data": {
      "text/plain": [
       "int"
      ]
     },
     "execution_count": 29,
     "metadata": {},
     "output_type": "execute_result"
    }
   ],
   "source": [
    "a = 10\n",
    "type(a)"
   ]
  },
  {
   "cell_type": "markdown",
   "id": "5263730d-b3ac-403c-8edb-78bcb8b50034",
   "metadata": {},
   "source": [
    "---\n",
    "# oops class 1"
   ]
  },
  {
   "cell_type": "code",
   "execution_count": 1,
   "id": "54a5df37-574d-4e1d-b91e-9ee6706c4bd1",
   "metadata": {},
   "outputs": [],
   "source": [
    "class car:\n",
    "    def __init__(self,body_type,engine,fuel_type):\n",
    "        \n",
    "        self.body_type = body_type\n",
    "        self.engine = engine\n",
    "        self.fuel_type = fuel_type\n",
    "        \n",
    "    def test(self):\n",
    "        print(\"\"\"This is my first method in car \"class\" \"\"\")"
   ]
  },
  {
   "cell_type": "code",
   "execution_count": 8,
   "id": "e196cae1-6105-4398-a236-acb2feea6fc7",
   "metadata": {},
   "outputs": [],
   "source": [
    "class car:\n",
    "    def __init__(self,body_type,engine,fuel_type):\n",
    "        \n",
    "        self.a = body_type\n",
    "        self.b = engine\n",
    "        self.c = fuel_type\n",
    "        \n",
    "    def test(self):\n",
    "        print(\"\"\"This is my first method in car \"class\" \"\"\")"
   ]
  },
  {
   "cell_type": "code",
   "execution_count": 36,
   "id": "470fbed5-99be-40e8-b5d9-2612ba552841",
   "metadata": {},
   "outputs": [
    {
     "ename": "TypeError",
     "evalue": "car.__init__() missing 3 required positional arguments: 'body_type', 'engine', and 'fuel_type'",
     "output_type": "error",
     "traceback": [
      "\u001b[0;31m---------------------------------------------------------------------------\u001b[0m",
      "\u001b[0;31mTypeError\u001b[0m                                 Traceback (most recent call last)",
      "Cell \u001b[0;32mIn [36], line 1\u001b[0m\n\u001b[0;32m----> 1\u001b[0m fortuner \u001b[38;5;241m=\u001b[39m \u001b[43mcar\u001b[49m\u001b[43m(\u001b[49m\u001b[43m)\u001b[49m\n",
      "\u001b[0;31mTypeError\u001b[0m: car.__init__() missing 3 required positional arguments: 'body_type', 'engine', and 'fuel_type'"
     ]
    }
   ],
   "source": [
    "fortuner = car()"
   ]
  },
  {
   "cell_type": "code",
   "execution_count": 9,
   "id": "929ba7cc-f6bf-4248-8bba-ab9c28ee5d37",
   "metadata": {},
   "outputs": [],
   "source": [
    "fortuner = car(\"suv\",\"bs4\",\"petrol\")"
   ]
  },
  {
   "cell_type": "code",
   "execution_count": 10,
   "id": "ace655ca-b762-4564-afa9-150d23dde740",
   "metadata": {},
   "outputs": [],
   "source": [
    "nexon = car(\"mini suv\",\"abc\",\"petrol\")"
   ]
  },
  {
   "cell_type": "code",
   "execution_count": 4,
   "id": "317ab983-54fb-45c1-8642-c55d5a0445af",
   "metadata": {},
   "outputs": [
    {
     "data": {
      "text/plain": [
       "'suv'"
      ]
     },
     "execution_count": 4,
     "metadata": {},
     "output_type": "execute_result"
    }
   ],
   "source": [
    "fortuner.body_type"
   ]
  },
  {
   "cell_type": "code",
   "execution_count": 5,
   "id": "515c7ae6-a025-442d-b86f-15295b076758",
   "metadata": {},
   "outputs": [
    {
     "data": {
      "text/plain": [
       "'mini suv'"
      ]
     },
     "execution_count": 5,
     "metadata": {},
     "output_type": "execute_result"
    }
   ],
   "source": [
    "nexon.body_type"
   ]
  },
  {
   "cell_type": "code",
   "execution_count": 11,
   "id": "b92ce509-6333-42a0-ae9c-89a98870d68a",
   "metadata": {},
   "outputs": [
    {
     "data": {
      "text/plain": [
       "'suv'"
      ]
     },
     "execution_count": 11,
     "metadata": {},
     "output_type": "execute_result"
    }
   ],
   "source": [
    "fortuner.a"
   ]
  },
  {
   "cell_type": "code",
   "execution_count": 12,
   "id": "9c8c1b65-357d-4af0-8206-2b7a288ffeff",
   "metadata": {},
   "outputs": [
    {
     "data": {
      "text/plain": [
       "'bs4'"
      ]
     },
     "execution_count": 12,
     "metadata": {},
     "output_type": "execute_result"
    }
   ],
   "source": [
    "fortuner.b"
   ]
  },
  {
   "cell_type": "code",
   "execution_count": 13,
   "id": "23e11f84-01e0-4217-ae74-9ccb1aac02b2",
   "metadata": {},
   "outputs": [
    {
     "data": {
      "text/plain": [
       "'petrol'"
      ]
     },
     "execution_count": 13,
     "metadata": {},
     "output_type": "execute_result"
    }
   ],
   "source": [
    "fortuner.c"
   ]
  },
  {
   "cell_type": "markdown",
   "id": "b28906ae-2bce-4e24-ab26-bc52b1bdd1bc",
   "metadata": {},
   "source": [
    "---"
   ]
  },
  {
   "cell_type": "code",
   "execution_count": 25,
   "id": "edb1512c-e928-4aaf-be03-a313870be6f4",
   "metadata": {},
   "outputs": [],
   "source": [
    "class list_parser:\n",
    "    def parcer(self,a):\n",
    "        if type(a) == list:\n",
    "            for i in a:\n",
    "                print(i)\n",
    "                \n",
    "    def reverse_list(self,z):\n",
    "        if type(z) == list:\n",
    "            return z[::-1]\n",
    "    \n",
    "    "
   ]
  },
  {
   "cell_type": "code",
   "execution_count": 28,
   "id": "93ebe4d4-62ed-4401-b5c3-8c3bda64f024",
   "metadata": {},
   "outputs": [
    {
     "name": "stdout",
     "output_type": "stream",
     "text": [
      "2\n",
      "3\n",
      "4\n",
      "5\n",
      "6\n",
      "7\n",
      "78\n"
     ]
    }
   ],
   "source": [
    "c = list_parser()\n",
    "\n",
    "c.parcer([2,3,4,5,6,7,78])"
   ]
  },
  {
   "cell_type": "code",
   "execution_count": 29,
   "id": "2657d573-7e8b-4a57-b306-43d8bcb8803b",
   "metadata": {},
   "outputs": [
    {
     "data": {
      "text/plain": [
       "[7, 6, 5, 4, 3, 2]"
      ]
     },
     "execution_count": 29,
     "metadata": {},
     "output_type": "execute_result"
    }
   ],
   "source": [
    "c.reverse_list([2,3,4,5,6,7])"
   ]
  },
  {
   "cell_type": "markdown",
   "id": "88d2de19-da7f-44cd-aa17-e0b0e3363aef",
   "metadata": {},
   "source": [
    "---"
   ]
  },
  {
   "cell_type": "code",
   "execution_count": 37,
   "id": "64b36c1a-0f2e-4169-a2ae-dda564b11013",
   "metadata": {},
   "outputs": [],
   "source": [
    "class list_parser:\n",
    "    def __init__(self,l):\n",
    "        self.l = l\n",
    "    \n",
    "    def parcer(self):\n",
    "        if type(self.l) == list:\n",
    "            for i in self.l:\n",
    "                print(i)\n",
    "                \n",
    "    def reverse_list(self):\n",
    "        if type(self.l) == list:\n",
    "            return self.l[::-1]\n",
    "    "
   ]
  },
  {
   "cell_type": "code",
   "execution_count": 40,
   "id": "1079bd63-78d5-4060-ac94-abff092e6c71",
   "metadata": {},
   "outputs": [
    {
     "name": "stdout",
     "output_type": "stream",
     "text": [
      "2\n",
      "3\n",
      "4\n",
      "5\n",
      "6\n",
      "7\n",
      "78\n"
     ]
    }
   ],
   "source": [
    "c = list_parser([2,3,4,5,6,7,78])\n",
    "\n",
    "c.parcer()"
   ]
  },
  {
   "cell_type": "markdown",
   "id": "6dfba5b8-11aa-48b6-ad72-4cd6c9c26f87",
   "metadata": {},
   "source": [
    "---"
   ]
  },
  {
   "cell_type": "code",
   "execution_count": 76,
   "id": "c1ba424e-fb18-454d-accd-aaaf84378bac",
   "metadata": {},
   "outputs": [],
   "source": [
    "class dictionari:\n",
    "    def __init__(self,d):\n",
    "        self.d = d\n",
    "    \n",
    "    def getkeys(self):\n",
    "        if type(self.d) == dict:\n",
    "            for i in self.d:\n",
    "                print(self.d.keys())\n",
    "                \n",
    "    def getvalues(self):\n",
    "        if type(self.d) == dict:\n",
    "            for i in self.d:\n",
    "                print(self.d.values()) \n",
    "                \n",
    "    def notdict(self):\n",
    "        if type(self.d) != dict:\n",
    "            raise Exception(self.d,'Not a dictionary')\n",
    "        return 1\n",
    "    \n",
    "    def new_key(self):\n",
    "        self.d = eval(input())\n",
    "        print(self.d,type(self.d)) \n",
    "        print(self.getkeys()) \n",
    "        print(self.getvalues())\n",
    "        \n",
    "    def insertion(self,k,v):\n",
    "        self.d[k] = v"
   ]
  },
  {
   "cell_type": "code",
   "execution_count": 77,
   "id": "1cec2dd7-9900-4b08-babe-ef086178e159",
   "metadata": {},
   "outputs": [
    {
     "name": "stdout",
     "output_type": "stream",
     "text": [
      "dict_keys(['name', 'place'])\n",
      "dict_keys(['name', 'place'])\n"
     ]
    }
   ],
   "source": [
    "a = dictionari({\"name\":\"ineuron\",\"place\":\"bangalore\"})\n",
    "\n",
    "a.getkeys()\n"
   ]
  },
  {
   "cell_type": "code",
   "execution_count": 78,
   "id": "6ba39224-2f76-40d4-b4ee-62d219db8367",
   "metadata": {},
   "outputs": [
    {
     "name": "stdout",
     "output_type": "stream",
     "text": [
      "dict_values(['ineuron', 'bangalore'])\n",
      "dict_values(['ineuron', 'bangalore'])\n"
     ]
    }
   ],
   "source": [
    "a.getvalues()"
   ]
  },
  {
   "cell_type": "code",
   "execution_count": 79,
   "id": "1983b302-bd1a-4c36-9afe-ba3a6a6e3026",
   "metadata": {},
   "outputs": [],
   "source": [
    "a = dictionari({\"k\" : \"sudh\", \"k2\": [3,4,5,6]})"
   ]
  },
  {
   "cell_type": "code",
   "execution_count": 80,
   "id": "692b770c-90b6-4f46-948b-e1294557a56e",
   "metadata": {},
   "outputs": [
    {
     "data": {
      "text/plain": [
       "<__main__.dictionari at 0x7f73381e53f0>"
      ]
     },
     "execution_count": 80,
     "metadata": {},
     "output_type": "execute_result"
    }
   ],
   "source": [
    "a"
   ]
  },
  {
   "cell_type": "code",
   "execution_count": 81,
   "id": "7910e724-4e4f-40f3-a136-24baeded4fe2",
   "metadata": {},
   "outputs": [
    {
     "name": "stdout",
     "output_type": "stream",
     "text": [
      " {\"k1\":\"dgdhd\"}\n"
     ]
    },
    {
     "name": "stdout",
     "output_type": "stream",
     "text": [
      "{'k1': 'dgdhd'} <class 'dict'>\n",
      "dict_keys(['k1'])\n",
      "None\n",
      "dict_values(['dgdhd'])\n",
      "None\n"
     ]
    }
   ],
   "source": [
    "a.new_key()"
   ]
  },
  {
   "cell_type": "markdown",
   "id": "fff243d7-cfa7-4f9a-993b-0cf96cd376b2",
   "metadata": {},
   "source": [
    "---"
   ]
  },
  {
   "cell_type": "code",
   "execution_count": null,
   "id": "a2474bf4-9018-4399-8455-c6bf28b5d3f3",
   "metadata": {},
   "outputs": [],
   "source": [
    "class dict_activity :\n",
    "    def __init__ (self, dic) :\n",
    "        self.dic = dic\n",
    "        \n",
    "    def give_allkeys (self) :\n",
    "        if self.check_thetypr() :\n",
    "            return self.dic.keys()\n",
    "        \n",
    "    def give_allvalues (self) :\n",
    "        if self.check_thetypr() :\n",
    "            return self.dic.values()\n",
    "        \n",
    "    def check_thetypr(self) :\n",
    "        if isinstance(self.dic, dict) == 0 :\n",
    "                 raise Exception (\"You have entered a : \", type(self.dic))\n",
    "        return 1 \n",
    "        \n",
    "    def enter_key_to_get_value (self) :\n",
    "        if self.check_thetypr() :\n",
    "            key = input(\"Enter the Key\")\n",
    "            if key in self.dic :\n",
    "                print(\"Value is : \",self.dic[key])\n",
    "            else :\n",
    "                print(\"Key is not present\")\n",
    "                \n",
    "    def enter_key_and_value (self) :\n",
    "        if self.check_thetypr() :\n",
    "            key = input(\"Enter the Key\")\n",
    "            value = input(\"Enter the value\")\n",
    "            self.dic[key] = value"
   ]
  },
  {
   "cell_type": "markdown",
   "id": "bb40677f-7171-4eb9-a0b3-8911cd8fee1c",
   "metadata": {},
   "source": [
    "---"
   ]
  },
  {
   "cell_type": "code",
   "execution_count": 82,
   "id": "f1860a27-63d2-48ac-b58c-7b68bcbffa1a",
   "metadata": {},
   "outputs": [
    {
     "data": {
      "text/plain": [
       "<_io.TextIOWrapper name='my_dict.py' mode='w' encoding='UTF-8'>"
      ]
     },
     "execution_count": 82,
     "metadata": {},
     "output_type": "execute_result"
    }
   ],
   "source": [
    "open(\"my_dict.py\",\"w\")"
   ]
  },
  {
   "cell_type": "code",
   "execution_count": 83,
   "id": "10ae5d0f-a475-4720-9ea8-68d542717be9",
   "metadata": {},
   "outputs": [
    {
     "name": "stdout",
     "output_type": "stream",
     "text": [
      " employee.py                         my_module.py\n",
      "'Exception handling class 1.ipynb'   Oops1.ipynb\n",
      "'Exception handling class 2.ipynb'  'oops class 1.ipynb'\n",
      " logging1.ipynb                      \u001b[0m\u001b[01;34m__pycache__\u001b[0m/\n",
      " Logging.ipynb                       saveTofile.py\n",
      " Logging_Module_Package2.ipynb       test1.py\n",
      " Logging_ModulesPackages.ipynb       test2.py\n",
      " my_dict.py\n"
     ]
    }
   ],
   "source": [
    "ls"
   ]
  },
  {
   "cell_type": "code",
   "execution_count": 5,
   "id": "536d1f72-0589-484e-a401-50ae3a7c1a8a",
   "metadata": {},
   "outputs": [],
   "source": [
    "import my_dict"
   ]
  },
  {
   "cell_type": "code",
   "execution_count": 6,
   "id": "a41737f1-5fbc-4124-9f52-2b8d3ca7f419",
   "metadata": {},
   "outputs": [],
   "source": [
    "z = my_dict.dictionari({\"k1\":\"rajat\",\"k2\":\"ineuron\"})"
   ]
  },
  {
   "cell_type": "code",
   "execution_count": 7,
   "id": "59b8e8cf-c429-4974-b925-05a23208d96e",
   "metadata": {},
   "outputs": [
    {
     "name": "stdout",
     "output_type": "stream",
     "text": [
      "dict_keys(['k1', 'k2'])\n"
     ]
    }
   ],
   "source": [
    "z.getkeys()"
   ]
  },
  {
   "cell_type": "code",
   "execution_count": 8,
   "id": "7d3e4e35-8e4b-414b-98c5-971040528657",
   "metadata": {},
   "outputs": [
    {
     "name": "stdout",
     "output_type": "stream",
     "text": [
      "dict_values(['rajat', 'ineuron'])\n",
      "dict_values(['rajat', 'ineuron'])\n"
     ]
    }
   ],
   "source": [
    "z.getvalues()"
   ]
  },
  {
   "cell_type": "code",
   "execution_count": null,
   "id": "f42a67c2-4b73-446b-bdcf-51a866c0dd9f",
   "metadata": {},
   "outputs": [],
   "source": []
  }
 ],
 "metadata": {
  "kernelspec": {
   "display_name": "Python 3",
   "language": "python",
   "name": "python3"
  },
  "language_info": {
   "codemirror_mode": {
    "name": "ipython",
    "version": 3
   },
   "file_extension": ".py",
   "mimetype": "text/x-python",
   "name": "python",
   "nbconvert_exporter": "python",
   "pygments_lexer": "ipython3",
   "version": "3.11.1"
  },
  "vscode": {
   "interpreter": {
    "hash": "8e5c125784d45a8dea42e807f07f9302b86f571c035b8eb88ba7ceb058367caf"
   }
  }
 },
 "nbformat": 4,
 "nbformat_minor": 5
}
