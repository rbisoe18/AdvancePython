{
 "cells": [
  {
   "cell_type": "code",
   "execution_count": 1,
   "id": "842432e3-9e15-4161-bc91-88de2451b9fc",
   "metadata": {},
   "outputs": [],
   "source": [
    "import test2"
   ]
  },
  {
   "cell_type": "code",
   "execution_count": 2,
   "id": "b65e488e-2ccd-4fe0-b44c-05ce051f2f0c",
   "metadata": {},
   "outputs": [
    {
     "data": {
      "text/plain": [
       "9"
      ]
     },
     "execution_count": 2,
     "metadata": {},
     "output_type": "execute_result"
    }
   ],
   "source": [
    "test2.test(4,5)"
   ]
  },
  {
   "cell_type": "code",
   "execution_count": 3,
   "id": "24512fe0-1e2c-4f8a-b184-1e248fc967f4",
   "metadata": {},
   "outputs": [
    {
     "name": "stdout",
     "output_type": "stream",
     "text": [
      "This is my code written in python\n"
     ]
    }
   ],
   "source": [
    "test2.test4()"
   ]
  },
  {
   "cell_type": "code",
   "execution_count": 4,
   "id": "3388a588-ea0b-4924-b57a-a8fc787c752a",
   "metadata": {},
   "outputs": [
    {
     "data": {
      "text/plain": [
       "2.0"
      ]
     },
     "execution_count": 4,
     "metadata": {},
     "output_type": "execute_result"
    }
   ],
   "source": [
    "test2.test3(4,2)"
   ]
  },
  {
   "cell_type": "code",
   "execution_count": 5,
   "id": "c2733bea-b342-4547-81b5-33d02d9a90a4",
   "metadata": {},
   "outputs": [
    {
     "data": {
      "text/plain": [
       "6"
      ]
     },
     "execution_count": 5,
     "metadata": {},
     "output_type": "execute_result"
    }
   ],
   "source": [
    "test2.test1(2,3)"
   ]
  },
  {
   "cell_type": "markdown",
   "id": "8dd1073b-605e-42ea-ba14-4a81664eeade",
   "metadata": {},
   "source": [
    "---"
   ]
  },
  {
   "cell_type": "code",
   "execution_count": 6,
   "id": "dbe6854b-65f6-4369-b438-5e7abab541d5",
   "metadata": {},
   "outputs": [],
   "source": [
    "from test2 import test4"
   ]
  },
  {
   "cell_type": "code",
   "execution_count": 7,
   "id": "84fa624a-e8e1-4746-9651-0f8e437f88b3",
   "metadata": {},
   "outputs": [
    {
     "name": "stdout",
     "output_type": "stream",
     "text": [
      "This is my code written in python\n"
     ]
    }
   ],
   "source": [
    "test4()"
   ]
  },
  {
   "cell_type": "code",
   "execution_count": 8,
   "id": "d207e09f-d51d-4930-b1e1-59c0f1cd586a",
   "metadata": {},
   "outputs": [],
   "source": [
    "from test2 import * # * - asteric (means select all)"
   ]
  },
  {
   "cell_type": "code",
   "execution_count": 9,
   "id": "d4f26ff7-8140-412e-a517-55d2fe3b6094",
   "metadata": {},
   "outputs": [
    {
     "data": {
      "text/plain": [
       "4"
      ]
     },
     "execution_count": 9,
     "metadata": {},
     "output_type": "execute_result"
    }
   ],
   "source": [
    "test1(1,4)"
   ]
  },
  {
   "cell_type": "code",
   "execution_count": 10,
   "id": "f73fad1d-c41f-4b01-9c64-d365979c9691",
   "metadata": {},
   "outputs": [
    {
     "data": {
      "text/plain": [
       "['In',\n",
       " 'Out',\n",
       " '_',\n",
       " '_2',\n",
       " '_4',\n",
       " '_5',\n",
       " '_9',\n",
       " '__',\n",
       " '___',\n",
       " '__builtin__',\n",
       " '__builtins__',\n",
       " '__doc__',\n",
       " '__loader__',\n",
       " '__name__',\n",
       " '__package__',\n",
       " '__spec__',\n",
       " '_dh',\n",
       " '_i',\n",
       " '_i1',\n",
       " '_i10',\n",
       " '_i2',\n",
       " '_i3',\n",
       " '_i4',\n",
       " '_i5',\n",
       " '_i6',\n",
       " '_i7',\n",
       " '_i8',\n",
       " '_i9',\n",
       " '_ih',\n",
       " '_ii',\n",
       " '_iii',\n",
       " '_oh',\n",
       " 'exit',\n",
       " 'get_ipython',\n",
       " 'quit',\n",
       " 'test',\n",
       " 'test1',\n",
       " 'test2',\n",
       " 'test3',\n",
       " 'test4']"
      ]
     },
     "execution_count": 10,
     "metadata": {},
     "output_type": "execute_result"
    }
   ],
   "source": [
    "dir()"
   ]
  },
  {
   "cell_type": "code",
   "execution_count": 11,
   "id": "c1e54850-e5d5-4251-8356-2f362278dac5",
   "metadata": {},
   "outputs": [
    {
     "data": {
      "text/plain": [
       "<_io.TextIOWrapper name='my_module.py' mode='w' encoding='UTF-8'>"
      ]
     },
     "execution_count": 11,
     "metadata": {},
     "output_type": "execute_result"
    }
   ],
   "source": [
    "open(\"my_module.py\",\"w\")"
   ]
  },
  {
   "cell_type": "code",
   "execution_count": 12,
   "id": "06f31f5f-39c3-44e5-b9cb-20a14f8d2e62",
   "metadata": {},
   "outputs": [
    {
     "name": "stdout",
     "output_type": "stream",
     "text": [
      " employee.py                         Logging_ModulesPackages.ipynb\n",
      "'Exception handling class 1.ipynb'   my_module.py\n",
      "'Exception handling class 2.ipynb'   \u001b[0m\u001b[01;34m__pycache__\u001b[0m/\n",
      " logging1.ipynb                      saveTofile.py\n",
      " Logging.ipynb                       test1.py\n",
      " Logging_Module_Package2.ipynb       test2.py\n"
     ]
    }
   ],
   "source": [
    "ls"
   ]
  },
  {
   "cell_type": "code",
   "execution_count": 4,
   "id": "05f29d7c-bb26-441c-b863-327453a26066",
   "metadata": {},
   "outputs": [],
   "source": [
    "import my_module"
   ]
  },
  {
   "cell_type": "code",
   "execution_count": 2,
   "id": "9059fa80-ee4e-4576-8d36-ea7b56b9f34a",
   "metadata": {},
   "outputs": [
    {
     "data": {
      "text/plain": [
       "{'blockchain', 'cloud', 'data science', 'drone', 'robotics'}"
      ]
     },
     "execution_count": 2,
     "metadata": {},
     "output_type": "execute_result"
    }
   ],
   "source": [
    "my_module.get_course()"
   ]
  },
  {
   "cell_type": "code",
   "execution_count": 3,
   "id": "1b2777c1-42dd-4175-b09f-8b381c5d6d3d",
   "metadata": {},
   "outputs": [
    {
     "data": {
      "text/plain": [
       "'greetings from ineuron'"
      ]
     },
     "execution_count": 3,
     "metadata": {},
     "output_type": "execute_result"
    }
   ],
   "source": [
    "my_module.greetings()"
   ]
  },
  {
   "cell_type": "code",
   "execution_count": null,
   "id": "b5526363-a784-404a-b574-4d203ccfc721",
   "metadata": {},
   "outputs": [],
   "source": []
  }
 ],
 "metadata": {
  "kernelspec": {
   "display_name": "Python 3 (ipykernel)",
   "language": "python",
   "name": "python3"
  },
  "language_info": {
   "codemirror_mode": {
    "name": "ipython",
    "version": 3
   },
   "file_extension": ".py",
   "mimetype": "text/x-python",
   "name": "python",
   "nbconvert_exporter": "python",
   "pygments_lexer": "ipython3",
   "version": "3.10.6"
  }
 },
 "nbformat": 4,
 "nbformat_minor": 5
}
